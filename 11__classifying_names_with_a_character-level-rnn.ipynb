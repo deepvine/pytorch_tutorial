{
 "cells": [
  {
   "cell_type": "markdown",
   "metadata": {},
   "source": [
    "# NLP FROM SCRATCH: CLASSIFYING NAMES WITH A CHARACTER-LEVEL RNN"
   ]
  },
  {
   "cell_type": "markdown",
   "metadata": {},
   "source": [
    "***officail site is [here](https://pytorch.org/tutorials/intermediate/char_rnn_classification_tutorial.html)***\n",
    "\n",
    "기본적인 단어 분류를 위한 문자단위 RNN(character-level RNN)을 만들고 학습시킬 겁니다. 이 튜토리얼에서는 torchtext의 편리한 기능들을 사용하지 않고 밑바닥에서부터 NLP의 모델링에 대해 어떻게 전처리하는지를 살펴볼 것입니다. 그래서 low level에서 NLP 모델링이 어떻게 전처리 되는지 알 수 있습니다.\n",
    "\n",
    "문자 단위 RNN(character-level RNN)은 문자들의 연속을 읽어 들이고 각 단계에서 예측과 “hidden state” 출력하며 다음 단계에 이전 hidden state를 입력으로 전달합니다. 예를들어 그 단어가 어느 클래스에 속하는지와 같은 출력이되는 마지막 예측을 얻습니다\n",
    "\n",
    "18개 언어로 된 수천 개의 성씨을 훈련시킨 다음 글자에 따라 이름이 어떤 언어의 성씨인지 예측합니다:"
   ]
  },
  {
   "cell_type": "markdown",
   "metadata": {},
   "source": [
    "$ python predict.py Hinton  \n",
    "(-0.47) Scottish  \n",
    "(-1.52) English  \n",
    "(-3.57) Irish \n",
    "\n",
    "$ python predict.py Schmidhuber  \n",
    "(-0.19) German  \n",
    "(-2.48) Czech  \n",
    "(-2.68) Dutch\n"
   ]
  },
  {
   "cell_type": "markdown",
   "metadata": {},
   "source": [
    "***추천 자료:***\n",
    "\n",
    "최소한 Pytorch를 설치했고, Python을 알고, Tensor를 이해한다고 가정합니다.:\n",
    "\n",
    "- http://pytorch.org/ 설치 안내를 위한 자료\n",
    "- [PyTorch로 딥러닝하기](https://pytorch.org/tutorials/beginner/deep_learning_60min_blitz.html): 60분만에 끝장내기 일반적인 PyTorch 시작을 위한 자료\n",
    "- [예제로 배우는 PyTorch 넓고 깊은 통찰을 위한 자료](https://pytorch.org/tutorials/beginner/pytorch_with_examples.html)\n",
    "- [Torch 사용자를 위한 PyTorch](https://pytorch.org/tutorials/beginner/former_torchies_tutorial.html) 이전 Lua Torch 사용자를 위한 자료"
   ]
  },
  {
   "cell_type": "markdown",
   "metadata": {},
   "source": [
    "RNN과 RNN이 어떻게 동작하는지를 아는 것도 또한 유용합니다:\n",
    "\n",
    "- [The Unreasonable Effectiveness of Recurrent Neural Networks](https://karpathy.github.io/2015/05/21/rnn-effectiveness/) 이 아티클은 실예제들을 보여 줍니다\n",
    "- [Understanding LSTM Networks](https://colah.github.io/posts/2015-08-Understanding-LSTMs/) 주로 LSTM에 관한 것이지만 일반적인 RNN에 대하여도 유익한 정보입니다"
   ]
  },
  {
   "cell_type": "markdown",
   "metadata": {},
   "source": [
    "## 데이터 준비하기"
   ]
  },
  {
   "cell_type": "markdown",
   "metadata": {},
   "source": [
    "**[여기](https://download.pytorch.org/tutorial/data.zip)에서 데이터를 다운 받고, 현재 디렉토리에 압축을 풀어야 합니다**"
   ]
  },
  {
   "cell_type": "markdown",
   "metadata": {},
   "source": [
    "`data/names` 폴더에는 “[Language].txt” 라는 18 개의 텍스트 파일이 포함되어 있습니다. 각 파일에는 한 줄에 하나의 이름이 포함되어 있으며 대부분 로마자로 표시되어 있습니다 (그러나, 여전히 유니 코드에서 ASCII로 변환해야 합니다).\n",
    "\n",
    "각 언어당 `{language : [names ...]}`라는 이름 리스트의 사전으로 완성될 것입니다. 일반 변수 “category” 와 “line” (이 경우 언어와 이름 용)은 이후의 확장성을 위해 사용됩니다."
   ]
  },
  {
   "cell_type": "code",
   "execution_count": 1,
   "metadata": {},
   "outputs": [
    {
     "name": "stdout",
     "output_type": "stream",
     "text": [
      "['data/names/names/Chinese.txt', 'data/names/names/Czech.txt', 'data/names/names/German.txt', 'data/names/names/French.txt', 'data/names/names/Greek.txt', 'data/names/names/Portuguese.txt', 'data/names/names/Irish.txt', 'data/names/names/English.txt', 'data/names/names/Italian.txt', 'data/names/names/Japanese.txt', 'data/names/names/Polish.txt', 'data/names/names/Spanish.txt', 'data/names/names/Scottish.txt', 'data/names/names/Korean.txt', 'data/names/names/Russian.txt', 'data/names/names/Dutch.txt', 'data/names/names/Arabic.txt', 'data/names/names/Vietnamese.txt']\n",
      "Slusarski\n"
     ]
    }
   ],
   "source": [
    "from __future__ import unicode_literals, print_function, division\n",
    "from io import open\n",
    "import glob\n",
    "\n",
    "def findFiles(path): return glob.glob(path)\n",
    "\n",
    "print(findFiles('data/names/names/*.txt'))\n",
    "\n",
    "import unicodedata\n",
    "import string\n",
    "\n",
    "all_letters = string.ascii_letters + \" .,;'\"\n",
    "n_letters = len(all_letters)\n",
    "\n",
    "# 유니 코드 문자열을 일반 ASCII로 변환하십시오. http://stackoverflow.com/a/518232/2809427 에 감사드립니다.\n",
    "def unicodeToAscii(s):\n",
    "    return ''.join(\n",
    "        c for c in unicodedata.normalize('NFD', s)\n",
    "        if unicodedata.category(c) != 'Mn'\n",
    "        and c in all_letters\n",
    "    )\n",
    "\n",
    "print(unicodeToAscii('Ślusàrski'))\n",
    "\n",
    "# 언어별 이름 목록인 category_lines 사전을 만드십시오.\n",
    "category_lines = {}\n",
    "all_categories = []\n",
    "\n",
    "# 파일을 읽고 라인으로 분리하십시오\n",
    "def readLines(filename):\n",
    "    lines = open(filename, encoding='utf-8').read().strip().split('\\n')\n",
    "    return [unicodeToAscii(line) for line in lines]\n",
    "\n",
    "for filename in findFiles('data/names/names/*.txt'):\n",
    "    category = filename.split('/')[-1].split('.')[0]\n",
    "    all_categories.append(category)\n",
    "    lines = readLines(filename)\n",
    "    category_lines[category] = lines\n",
    "\n",
    "n_categories = len(all_categories)"
   ]
  },
  {
   "cell_type": "markdown",
   "metadata": {},
   "source": [
    "이제 각 카테고리(언어)를 라인의 리스트(이름)에 매핑하는 사전인 `category_lines`가 있습니다. 나중에 참조를 위하여 `all_categories`(단순한 언어 목록)과 `n_categories`를 추적합니다. "
   ]
  },
  {
   "cell_type": "code",
   "execution_count": 2,
   "metadata": {},
   "outputs": [
    {
     "data": {
      "text/plain": [
       "dict_keys(['Chinese', 'Czech', 'German', 'French', 'Greek', 'Portuguese', 'Irish', 'English', 'Italian', 'Japanese', 'Polish', 'Spanish', 'Scottish', 'Korean', 'Russian', 'Dutch', 'Arabic', 'Vietnamese'])"
      ]
     },
     "execution_count": 2,
     "metadata": {},
     "output_type": "execute_result"
    }
   ],
   "source": [
    "category_lines.keys()"
   ]
  },
  {
   "cell_type": "code",
   "execution_count": 3,
   "metadata": {},
   "outputs": [
    {
     "name": "stdout",
     "output_type": "stream",
     "text": [
      "['Abandonato', 'Abatangelo', 'Abatantuono', 'Abate', 'Abategiovanni']\n"
     ]
    }
   ],
   "source": [
    "print(category_lines['Italian'][:5])"
   ]
  },
  {
   "cell_type": "markdown",
   "metadata": {},
   "source": [
    "## 이름을 Tensor 로 변환"
   ]
  },
  {
   "cell_type": "markdown",
   "metadata": {},
   "source": [
    "이제 위에서 정리된 모든 이름이 있으므로 이를 활용하기 위해 이름들을 Tensor로 전환해야 합니다.\n",
    "\n",
    "하나의 문자를 표현하기 위해, 크기가 `<1 x n_letters>` 인 \"one-hot vector\" 를 사용합니다. one-hot 벡터는 현재 문자의 주소에만 1을 값을 가지고 그외에 나머지는 0으로 채워진 것입니다. 에를들어 `\"b\"= <0 1 0 0 0 …>`\n",
    "\n",
    "단어를 만들기 위해 그 묶음을 2 차원 행렬 `<line_length x 1 x n_letters>` 에 결합시킵니다.\n",
    "\n",
    "이 추가적인 1차원은 PyTorch가 모든 것이 배치(batch)에 있다고 가정하기 때문인 것입니다. 여기 배치크기는 1입니다."
   ]
  },
  {
   "cell_type": "code",
   "execution_count": 4,
   "metadata": {},
   "outputs": [
    {
     "name": "stdout",
     "output_type": "stream",
     "text": [
      "tensor([[0., 0., 0., 0., 0., 0., 0., 0., 0., 0., 0., 0., 0., 0., 0., 0., 0., 0.,\n",
      "         0., 0., 0., 0., 0., 0., 0., 0., 0., 0., 0., 0., 0., 0., 0., 0., 0., 1.,\n",
      "         0., 0., 0., 0., 0., 0., 0., 0., 0., 0., 0., 0., 0., 0., 0., 0., 0., 0.,\n",
      "         0., 0., 0.]])\n",
      "torch.Size([5, 1, 57])\n"
     ]
    }
   ],
   "source": [
    "import torch\n",
    "\n",
    "# all_letters 로 문자의 주소 찾기, 예시 \"a\" = 0\n",
    "def letterToIndex(letter):\n",
    "    return all_letters.find(letter)\n",
    "\n",
    "# 검증을 위해서 한 문자를 <1 x n_letters> Tensor로 변환하기\n",
    "def letterToTensor(letter):\n",
    "    tensor = torch.zeros(1, n_letters)\n",
    "    tensor[0][letterToIndex(letter)] = 1\n",
    "    return tensor\n",
    "\n",
    "# 한 줄(이름)을  <line_length x 1 x n_letters>,\n",
    "# 또는 문자 벡터의 어레이로 변경하기\n",
    "def lineToTensor(line):\n",
    "    tensor = torch.zeros(len(line), 1, n_letters)\n",
    "    for li, letter in enumerate(line):\n",
    "        tensor[li][0][letterToIndex(letter)] = 1\n",
    "    return tensor\n",
    "\n",
    "print(letterToTensor('J'))\n",
    "\n",
    "print(lineToTensor('Jones').size())"
   ]
  },
  {
   "cell_type": "markdown",
   "metadata": {},
   "source": [
    "## 네트워크 생성"
   ]
  },
  {
   "cell_type": "markdown",
   "metadata": {},
   "source": [
    "Autograd 하기 전에, Torch에서 recurrent neural network를 만드는 것은 여러 타임 스텝을 거쳐 Layer의 파라미터를 복제하는 것을 포함합니다. 이제 레이어들은 그래프 안에서 완전히 처리되는 hidden state와 gradient를 가집니다. 이 말은 일반적인 feed-forward layer 같은 매우 \"순수한\" 방법으로 RNN을 구현할 수 있다는 겁니다.\n",
    "\n",
    "이 RNN 모듈은 (대부분 [Torch 사용자를 위한 PyTorch 튜토리얼](https://pytorch.org/tutorials/beginner/former_torchies/nnft_tutorial.html) 에서 내용을 가져온) input과 hidden state에서 작동하는 2개의 선형 레이어이며 이 선형레이어의 결과는 LogSoftmax 레이어를 가집니다."
   ]
  },
  {
   "cell_type": "code",
   "execution_count": 5,
   "metadata": {},
   "outputs": [
    {
     "data": {
      "image/png": "[encoded data removed]",
      "text/plain": [
       "<IPython.core.display.Image object>"
      ]
     },
     "execution_count": 5,
     "metadata": {},
     "output_type": "execute_result"
    }
   ],
   "source": [
    "from IPython.display import Image\n",
    "Image(\"images/classifying_names_with_a_character-level-rnn.png\") "
   ]
  },
  {
   "cell_type": "code",
   "execution_count": 6,
   "metadata": {},
   "outputs": [],
   "source": [
    "import torch.nn as nn\n",
    "from torch.autograd import Variable\n",
    "\n",
    "class RNN(nn.Module):\n",
    "    def __init__(self, input_size, hidden_size, output_size):\n",
    "        super(RNN, self).__init__()\n",
    "\n",
    "        self.hidden_size = hidden_size\n",
    "\n",
    "        self.i2h = nn.Linear(input_size + hidden_size, hidden_size)\n",
    "        self.i2o = nn.Linear(input_size + hidden_size, output_size)\n",
    "        self.softmax = nn.LogSoftmax(dim=1)\n",
    "\n",
    "    def forward(self, input, hidden):\n",
    "        combined = torch.cat((input, hidden), 1)\n",
    "        hidden = self.i2h(combined)\n",
    "        output = self.i2o(combined)\n",
    "        output = self.softmax(output)\n",
    "        return output, hidden\n",
    "\n",
    "    def initHidden(self):\n",
    "        return Variable(torch.zeros(1, self.hidden_size))\n",
    "\n",
    "n_hidden = 128\n",
    "rnn = RNN(n_letters, n_hidden, n_categories)"
   ]
  },
  {
   "cell_type": "markdown",
   "metadata": {},
   "source": [
    "이 네트워크를 실행하려면 입력(여기서는 현재 문자에 대한 Tensor)과 이전의 hidden state를(처음에 0으로 초기화한) 전달해야 합니다. 그리고 출력(각 언어의 확률)과 다음 hidden state (다음 단계를 위해 유지하는)를 돌려 받을겁니다."
   ]
  },
  {
   "cell_type": "code",
   "execution_count": 7,
   "metadata": {},
   "outputs": [],
   "source": [
    "input = Variable(letterToTensor('A'))\n",
    "hidden = Variable(torch.zeros(1, n_hidden))\n",
    "\n",
    "output, next_hidden = rnn(input, hidden)"
   ]
  },
  {
   "cell_type": "markdown",
   "metadata": {},
   "source": [
    "효율성을 위해서 매 단계마다 새로운 Tensor를 만들고 싶지 않기 때문에 `letterToTensor` 대신에 `lineToTensor`와 slices를 사용할 것입니다. 이것은 Tensor의 사전 계산(pre-computing) 배치에 의해 더욱 최적화 될 수 있습니다."
   ]
  },
  {
   "cell_type": "code",
   "execution_count": 8,
   "metadata": {},
   "outputs": [
    {
     "name": "stdout",
     "output_type": "stream",
     "text": [
      "tensor([[-2.9355, -2.9031, -2.8683, -2.9005, -2.7692, -2.9290, -2.8897, -2.8672,\n",
      "         -2.8993, -3.0159, -2.8448, -2.8715, -2.8880, -2.9263, -2.8987, -2.8975,\n",
      "         -2.8706, -2.8716]], grad_fn=<LogSoftmaxBackward>)\n"
     ]
    }
   ],
   "source": [
    "input = Variable(lineToTensor('Albert'))\n",
    "hidden = Variable(torch.zeros(1, n_hidden))\n",
    "\n",
    "output, next_hidden = rnn(input[0], hidden)\n",
    "print(output)"
   ]
  },
  {
   "cell_type": "markdown",
   "metadata": {},
   "source": [
    "보는바와 같이 출력은 매 항목이 해당 카테고리의 likelihood(값이 높을 수록 가능성이 높은)인 `<1 x n_categories>` Tensor입니다"
   ]
  },
  {
   "cell_type": "markdown",
   "metadata": {},
   "source": [
    "## 학습"
   ]
  },
  {
   "cell_type": "markdown",
   "metadata": {},
   "source": [
    "### 학습 준비"
   ]
  },
  {
   "cell_type": "markdown",
   "metadata": {},
   "source": [
    "학습으로 들어가기 전에 몇몇 도움될만한 함수를 만들어야합니다. 첫째는 네트워크의 출력을 해석하기 위한 것 입니다. 이는 각 카테고리의 likelihood가 되는 것입니다. 가장 큰 값의 주소를 알기 위해서 `Tensor.topk` 를 쓸 수 있습니다."
   ]
  },
  {
   "cell_type": "code",
   "execution_count": 9,
   "metadata": {},
   "outputs": [
    {
     "name": "stdout",
     "output_type": "stream",
     "text": [
      "('Greek', tensor(4))\n"
     ]
    }
   ],
   "source": [
    "def categoryFromOutput(output):\n",
    "    top_n, top_i = output.data.topk(1) # Tensor out of Variable with .data\n",
    "    category_i = top_i[0][0]\n",
    "    return all_categories[category_i], category_i\n",
    "\n",
    "print(categoryFromOutput(output))"
   ]
  },
  {
   "cell_type": "markdown",
   "metadata": {},
   "source": [
    "또한 학습 example을(이름과 언어)를 얻는 빠른 방법을 원할 것입니다."
   ]
  },
  {
   "cell_type": "code",
   "execution_count": 10,
   "metadata": {},
   "outputs": [
    {
     "name": "stdout",
     "output_type": "stream",
     "text": [
      "category = Czech / line = Marik\n",
      "category = Arabic / line = Khouri\n",
      "category = Italian / line = Manco\n",
      "category = Scottish / line = Mcmillan\n",
      "category = German / line = Rothenberg\n",
      "category = English / line = Elcock\n",
      "category = Greek / line = Papoutsis\n",
      "category = English / line = Jeffrey\n",
      "category = Arabic / line = Daher\n",
      "category = Spanish / line = Gallego\n"
     ]
    }
   ],
   "source": [
    "import random\n",
    "\n",
    "def randomChoice(l):\n",
    "    return l[random.randint(0, len(l) - 1)]\n",
    "\n",
    "def randomTrainingExample():\n",
    "    category = randomChoice(all_categories)\n",
    "    line = randomChoice(category_lines[category])\n",
    "    category_tensor = Variable(torch.LongTensor([all_categories.index(category)]))\n",
    "    line_tensor = Variable(lineToTensor(line))\n",
    "    return category, line, category_tensor, line_tensor\n",
    "\n",
    "for i in range(10):\n",
    "    category, line, category_tensor, line_tensor = randomTrainingExample()\n",
    "    print('category =', category, '/ line =', line)"
   ]
  },
  {
   "cell_type": "markdown",
   "metadata": {},
   "source": [
    "### 네트워크 학습"
   ]
  },
  {
   "cell_type": "markdown",
   "metadata": {},
   "source": [
    "이제 이 네트워크를 훈련하는 데 필요한 모든것은 네트워크에 예시를 주고 추측을 하고, 만일 잘못되었다면 알려주는 것 입니다.\n",
    "\n",
    "loss function에는 RNN의 마지막 레이어가 nn.LogSoftmax 이므로 `nn.NLLLoss`가 적절합니다."
   ]
  },
  {
   "cell_type": "code",
   "execution_count": 11,
   "metadata": {},
   "outputs": [],
   "source": [
    "criterion = nn.NLLLoss()"
   ]
  },
  {
   "cell_type": "markdown",
   "metadata": {},
   "source": [
    "학습의 각 루프에는 다음이 실행됩니다:\n",
    "\n",
    "- 입력과 목표 tensor 생성\n",
    "- 0로 초기화된 hidden state 생성\n",
    "- 각 문자를 읽기\n",
    "    - 그 후 다음 문자를 위하여 hidden state 유지\n",
    "- 목표와 출력 비교\n",
    "- 역전파(Back-propagate)\n",
    "- 출력과 손실 리턴"
   ]
  },
  {
   "cell_type": "code",
   "execution_count": 14,
   "metadata": {},
   "outputs": [],
   "source": [
    "learning_rate = 0.005 # 이것을 너무 높게 설정하면 폭발할 수 있고 너무 낮으면 학습이 되지 않을 수 있습니다.\n",
    "\n",
    "def train(category_tensor, line_tensor):\n",
    "    hidden = rnn.initHidden()\n",
    "\n",
    "    rnn.zero_grad()\n",
    "\n",
    "    for i in range(line_tensor.size()[0]):\n",
    "        output, hidden = rnn(line_tensor[i], hidden)\n",
    "\n",
    "    loss = criterion(output, category_tensor)\n",
    "    loss.backward()\n",
    "\n",
    "    # learning rate를 곱한 파리미터의 경사도를 파리미터 값에 더합니다.\n",
    "    for p in rnn.parameters():\n",
    "        p.data.add_(-learning_rate, p.grad.data)\n",
    "\n",
    "    return output, loss.item()"
   ]
  },
  {
   "cell_type": "markdown",
   "metadata": {},
   "source": [
    "이제 예제를 사용하여 실행해야합니다. train 함수가 출력과 손실을 반환하기 때문에 추측을 출력하고 도식화를 위한 손실을 추적 할 수 있습니다. 1000개의 예제가 있기 때문에 모든 print_every 예제만 출력하고 손실의 평균을 얻습니다."
   ]
  },
  {
   "cell_type": "code",
   "execution_count": 15,
   "metadata": {},
   "outputs": [
    {
     "name": "stdout",
     "output_type": "stream",
     "text": [
      "5000 5% (0m 17s) 2.6697 Lian / Irish ✗ (Chinese)\n",
      "10000 10% (0m 33s) 1.6258 Dickson / Scottish ✓\n",
      "15000 15% (0m 51s) 2.6767 Alst / English ✗ (Dutch)\n",
      "20000 20% (1m 8s) 2.1710 Szweda / Dutch ✗ (Polish)\n",
      "25000 25% (1m 24s) 1.2104 Quyen / Korean ✗ (Vietnamese)\n",
      "30000 30% (1m 40s) 0.8904 Chan / Chinese ✓\n",
      "35000 35% (1m 57s) 0.8382 Le / Vietnamese ✓\n",
      "40000 40% (2m 14s) 1.8507 Chaim / Vietnamese ✗ (Chinese)\n",
      "45000 45% (2m 30s) 1.7346 Antar / Scottish ✗ (Arabic)\n",
      "50000 50% (2m 46s) 1.4998 Moller / German ✓\n",
      "55000 55% (3m 3s) 1.4658 Rijnder / German ✗ (Dutch)\n",
      "60000 60% (3m 20s) 0.7704 Maurice / Irish ✓\n",
      "65000 65% (3m 36s) 2.1700 Cameron / French ✗ (Scottish)\n",
      "70000 70% (3m 52s) 0.1605 Sotiris / Greek ✓\n",
      "75000 75% (4m 8s) 0.1561 Pappayiorgas / Greek ✓\n",
      "80000 80% (4m 26s) 0.1117 Kassab / Arabic ✓\n",
      "85000 85% (4m 41s) 1.1587 Jimenez / Spanish ✓\n",
      "90000 90% (4m 57s) 0.5648 Seah / Chinese ✓\n",
      "95000 95% (5m 14s) 1.7474 Costa / Italian ✗ (Spanish)\n",
      "100000 100% (5m 30s) 1.9919 Mingo / Portuguese ✗ (Spanish)\n"
     ]
    }
   ],
   "source": [
    "import time\n",
    "import math\n",
    "\n",
    "n_iters = 100000\n",
    "print_every = 5000\n",
    "plot_every = 1000\n",
    "\n",
    "\n",
    "\n",
    "# 도식화를 위한 소실 추적\n",
    "current_loss = 0\n",
    "all_losses = []\n",
    "\n",
    "def timeSince(since):\n",
    "    now = time.time()\n",
    "    s = now - since\n",
    "    m = math.floor(s / 60)\n",
    "    s -= m * 60\n",
    "    return '%dm %ds' % (m, s)\n",
    "\n",
    "start = time.time()\n",
    "\n",
    "for iter in range(1, n_iters + 1):\n",
    "    category, line, category_tensor, line_tensor = randomTrainingExample()\n",
    "    output, loss = train(category_tensor, line_tensor)\n",
    "    current_loss += loss\n",
    "\n",
    "    # iter 숫자, 손실, 이름, 추측 출력\n",
    "    if iter % print_every == 0:\n",
    "        guess, guess_i = categoryFromOutput(output)\n",
    "        correct = '✓' if guess == category else '✗ (%s)' % category\n",
    "        print('%d %d%% (%s) %.4f %s / %s %s' % (iter, iter / n_iters * 100, timeSince(start), loss, line, guess, correct))\n",
    "\n",
    "    # 현재 평균 손실을 손실 리스트에 추가\n",
    "    if iter % plot_every == 0:\n",
    "        all_losses.append(current_loss / plot_every)\n",
    "        current_loss = 0"
   ]
  },
  {
   "cell_type": "markdown",
   "metadata": {},
   "source": [
    "### 결과 플롯(plotting)"
   ]
  },
  {
   "cell_type": "markdown",
   "metadata": {},
   "source": [
    "`all_losses`에서 historical loss를 플롯팅(plotting)하는 것은 네트워크 학습을 보여줍니다."
   ]
  },
  {
   "cell_type": "code",
   "execution_count": 18,
   "metadata": {},
   "outputs": [
    {
     "data": {
      "text/plain": [
       "[<matplotlib.lines.Line2D at 0x7fcbb803d2e8>]"
      ]
     },
     "execution_count": 18,
     "metadata": {},
     "output_type": "execute_result"
    },
    {
     "data": {
      "image/png": "[encoded data removed]",
      "text/plain": [
       "<Figure size 432x288 with 1 Axes>"
      ]
     },
     "metadata": {
      "needs_background": "light"
     },
     "output_type": "display_data"
    }
   ],
   "source": [
    "import matplotlib.pyplot as plt\n",
    "import matplotlib.ticker as ticker\n",
    "\n",
    "plt.figure()\n",
    "plt.plot(all_losses)"
   ]
  },
  {
   "cell_type": "markdown",
   "metadata": {},
   "source": [
    "## 결과 평가"
   ]
  },
  {
   "cell_type": "markdown",
   "metadata": {},
   "source": [
    "다른 카테고리에 대한 네트워크 성능이 얼마나 잘됐는지 보기위해 네트워크가 추측하는 언어(열)와 실제 언어(행)를 가리키는 confusion matrix을 만듭니다. confusion matrix을 계산하기 위해 많은 수의 샘플들이 `train()`과 역전파를 빼면 동일한 `evaluate()`로 네트워크를 거쳐 실행됩니다."
   ]
  },
  {
   "cell_type": "code",
   "execution_count": 19,
   "metadata": {},
   "outputs": [
    {
     "data": {
      "image/png": "[encoded data removed]",
      "text/plain": [
       "<Figure size 432x288 with 2 Axes>"
      ]
     },
     "metadata": {
      "needs_background": "light"
     },
     "output_type": "display_data"
    }
   ],
   "source": [
    "# 혼란 행렬에서 정확한 추측을 추적\n",
    "confusion = torch.zeros(n_categories, n_categories)\n",
    "n_confusion = 10000\n",
    "\n",
    "# 주어진 라인의 출력 반환\n",
    "def evaluate(line_tensor):\n",
    "    hidden = rnn.initHidden()\n",
    "\n",
    "    for i in range(line_tensor.size()[0]):\n",
    "        output, hidden = rnn(line_tensor[i], hidden)\n",
    "\n",
    "    return output\n",
    "\n",
    "# 올바르게 추측 된 예시와 기록을 살펴보십시오.\n",
    "for i in range(n_confusion):\n",
    "    category, line, category_tensor, line_tensor = randomTrainingExample()\n",
    "    output = evaluate(line_tensor)\n",
    "    guess, guess_i = categoryFromOutput(output)\n",
    "    category_i = all_categories.index(category)\n",
    "    confusion[category_i][guess_i] += 1\n",
    "\n",
    "# 모든 행을 합계로 나눔으로써 정규화하십시오.\n",
    "for i in range(n_categories):\n",
    "    confusion[i] = confusion[i] / confusion[i].sum()\n",
    "\n",
    "# 도식 설정\n",
    "fig = plt.figure()\n",
    "ax = fig.add_subplot(111)\n",
    "cax = ax.matshow(confusion.numpy())\n",
    "fig.colorbar(cax)\n",
    "\n",
    "# 축 설정\n",
    "ax.set_xticklabels([''] + all_categories, rotation=90)\n",
    "ax.set_yticklabels([''] + all_categories)\n",
    "\n",
    "# 모든 tick에서 강제로 레이블 지정\n",
    "ax.xaxis.set_major_locator(ticker.MultipleLocator(1))\n",
    "ax.yaxis.set_major_locator(ticker.MultipleLocator(1))\n",
    "\n",
    "# sphinx_gallery_thumbnail_number = 2\n",
    "plt.show()"
   ]
  },
  {
   "cell_type": "markdown",
   "metadata": {},
   "source": [
    "주축(main axis)에서 벗어난 밝은 점을 표시하여 잘못 추측한 언어를 표시 할 수 있습니다. 예를 들어 한국어에 대한 중국어, 이탈리아어에 대한 스페인어. 그리스어는 매우 잘되는 것으로 영어는 매우 나쁜것 같습니다. (아마도 다른 언어들과 중첩되기 때문에 그런걸 수도 있습니다.)"
   ]
  },
  {
   "cell_type": "markdown",
   "metadata": {},
   "source": [
    "### 사용자 입력으로 실행"
   ]
  },
  {
   "cell_type": "code",
   "execution_count": 20,
   "metadata": {},
   "outputs": [
    {
     "name": "stdout",
     "output_type": "stream",
     "text": [
      "\n",
      "> Dovesky\n",
      "(-0.86) Russian\n",
      "(-1.50) Polish\n",
      "(-1.64) Czech\n",
      "\n",
      "> Jackson\n",
      "(-0.19) Scottish\n",
      "(-2.42) English\n",
      "(-3.37) Russian\n",
      "\n",
      "> Satoshi\n",
      "(-0.86) Arabic\n",
      "(-1.41) Japanese\n",
      "(-2.07) Italian\n"
     ]
    }
   ],
   "source": [
    "def predict(input_line, n_predictions=3):\n",
    "    print('\\n> %s' % input_line)\n",
    "    output = evaluate(Variable(lineToTensor(input_line)))\n",
    "\n",
    "    # 최고 N 카테고리 얻기\n",
    "    topv, topi = output.data.topk(n_predictions, 1, True)\n",
    "    predictions = []\n",
    "\n",
    "    for i in range(n_predictions):\n",
    "        value = topv[0][i]\n",
    "        category_index = topi[0][i]\n",
    "        print('(%.2f) %s' % (value, all_categories[category_index]))\n",
    "        predictions.append([value, all_categories[category_index]])\n",
    "\n",
    "predict('Dovesky')\n",
    "predict('Jackson')\n",
    "predict('Satoshi')"
   ]
  },
  {
   "cell_type": "markdown",
   "metadata": {},
   "source": [
    "[in the Practical PyTorch repo](https://github.com/spro/practical-pytorch/tree/master/char-rnn-classification) 최종 버전 스크립트는 위 코드를 몇개의 파일로 분할했습니다.:\n",
    "\n",
    "- `data.py` (파일 읽기)\n",
    "- `model.py` (RNN 정의)\n",
    "- `train.py` (학습 실행)\n",
    "- `predict.py` (커멘드 라인 인자로 `predict()` 실행)\n",
    "- `server.py` (bottle.py를 사용하여 JSON API로 예측 제공)\n",
    "\n",
    "학습과 네트워크 저장을 위해 `train.py` 실행.\n",
    "\n",
    "이름으로 예측을 보기 위해 `predict.py` 실행:"
   ]
  },
  {
   "cell_type": "markdown",
   "metadata": {},
   "source": [
    "$ python predict.py Hazaki  \n",
    "(-0.42) Japanese  \n",
    "(-1.39) Polish  \n",
    "(-3.51) Czech"
   ]
  },
  {
   "cell_type": "markdown",
   "metadata": {},
   "source": [
    "server.py 를 실행하고 prediction JSON 출력을 얻기 위해 http://localhost:5533/Yourname 를 참고하세요"
   ]
  },
  {
   "cell_type": "markdown",
   "metadata": {},
   "source": [
    "## 연습"
   ]
  },
  {
   "cell_type": "markdown",
   "metadata": {},
   "source": [
    "- “line -> category”인 다른 데이터 집합으로 시도해보세요, 예를 들어:\n",
    "    - 단어 -> 언어\n",
    "    - 이름 -> 성별\n",
    "    - 캐릭터 이름 -> 작가\n",
    "    - 페이지 제목 -> 블로그 또는 서브레딧\n",
    "- 더 크고 더 나은 모양의 네트워크로 더 나은 결과를 얻어보세요.\n",
    "    - 더 많은 linear layer 추가해 보십시오\n",
    "    - `nn.LSTM` 과 `nn.GRU` layer 추가해 보십시오\n",
    "    - 여러 개의 이런 RNN을 상위 수준 네트워크로 결합해 보십시오"
   ]
  },
  {
   "cell_type": "code",
   "execution_count": null,
   "metadata": {},
   "outputs": [],
   "source": []
  }
 ],
 "metadata": {
  "kernelspec": {
   "display_name": "Python 3",
   "language": "python",
   "name": "python3"
  },
  "language_info": {
   "codemirror_mode": {
    "name": "ipython",
    "version": 3
   },
   "file_extension": ".py",
   "mimetype": "text/x-python",
   "name": "python",
   "nbconvert_exporter": "python",
   "pygments_lexer": "ipython3",
   "version": "3.6.10"
  }
 },
 "nbformat": 4,
 "nbformat_minor": 4
}
